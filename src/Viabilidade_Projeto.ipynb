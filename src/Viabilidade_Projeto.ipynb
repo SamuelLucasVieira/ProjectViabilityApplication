{
 "cells": [
  {
   "cell_type": "markdown",
   "metadata": {
    "id": "EH-Ru7oDliip"
   },
   "source": [
    "# 2.1.Viabiliadade de Projetos"
   ]
  },
  {
   "cell_type": "markdown",
   "metadata": {
    "id": "25odAtvbl98R"
   },
   "source": [
    "### Bibliotecas"
   ]
  },
  {
   "cell_type": "code",
   "execution_count": 17,
   "metadata": {
    "executionInfo": {
     "elapsed": 1470,
     "status": "ok",
     "timestamp": 1739914995956,
     "user": {
      "displayName": "Fernando Amaral",
      "userId": "13956145547499510680"
     },
     "user_tz": 180
    },
    "id": "uHLGifxHltKc"
   },
   "outputs": [],
   "source": [
    "import pandas as pd\n",
    "from sklearn.model_selection import train_test_split\n",
    "from sklearn.linear_model import LogisticRegression\n",
    "from sklearn.preprocessing import StandardScaler\n",
    "from sklearn.metrics import classification_report\n",
    "import numpy as np\n",
    "import joblib\n",
    "import os"
   ]
  },
  {
   "cell_type": "markdown",
   "metadata": {
    "id": "LVvYB460luzT"
   },
   "source": [
    "### Função de Treino Principal"
   ]
  },
  {
   "cell_type": "code",
   "execution_count": 18,
   "metadata": {
    "executionInfo": {
     "elapsed": 48,
     "status": "ok",
     "timestamp": 1739915608130,
     "user": {
      "displayName": "Fernando Amaral",
      "userId": "13956145547499510680"
     },
     "user_tz": 180
    },
    "id": "1YWSvQCkXCnH"
   },
   "outputs": [],
   "source": [
    "def train_or_predict(new_projects):\n",
    "    # Testa se o modelo existe\n",
    "    model_path = 'logistic_model.joblib'\n",
    "    if os.path.exists(model_path):\n",
    "        model = joblib.load(model_path)\n",
    "        scaler = joblib.load(model_path.replace(\".joblib\", \"_scaler.joblib\"))\n",
    "    else:\n",
    "        df_projects = pd.read_csv(\"./data/projects_data.csv\")\n",
    "\n",
    "        # Separa variáveis\n",
    "        X = df_projects[[\"investment\", \"expected_return\", \"impact_score\"]]\n",
    "        y = df_projects[\"viability\"]\n",
    "\n",
    "        # Normaliza\n",
    "        scaler = StandardScaler()\n",
    "        X_scaled = scaler.fit_transform(X)\n",
    "\n",
    "        # Divide em treino e teste\n",
    "        X_train, X_test, y_train, y_test = train_test_split(\n",
    "            X_scaled, y, test_size=0.3, random_state=42\n",
    "        )\n",
    "\n",
    "        # Treina\n",
    "        model = LogisticRegression()\n",
    "        model.fit(X_train, y_train)\n",
    "\n",
    "        # Avalia\n",
    "        y_pred = model.predict(X_test)\n",
    "        report = classification_report(y_test, y_pred, output_dict=True)\n",
    "        # Salva modelo, scaler e métricas em disco\n",
    "        joblib.dump(model, model_path)\n",
    "        joblib.dump(scaler, model_path.replace(\".joblib\", \"_scaler.joblib\"))\n",
    "        joblib.dump(report, model_path.replace(\".joblib\", \"_metrics.joblib\"))\n",
    "\n",
    "    # Previsão\n",
    "    if new_projects:\n",
    "        df_new_projects = pd.DataFrame(new_projects)\n",
    "\n",
    "        X_new_scaled = scaler.transform(df_new_projects)\n",
    "\n",
    "        predictions = model.predict(X_new_scaled)\n",
    "        # Probabildiade de 1\n",
    "        probabilities = model.predict_proba(X_new_scaled)[:, 1]\n",
    "        df_new_projects[\"probability\"] = probabilities\n",
    "        df_new_projects[\"viability\"] = predictions\n",
    "\n",
    "        return df_new_projects, joblib.load(model_path.replace(\".joblib\", \"_metrics.joblib\"))\n",
    "\n",
    "    return None, joblib.load(model_path.replace(\".joblib\", \"_metrics.joblib\"))"
   ]
  },
  {
   "cell_type": "markdown",
   "metadata": {
    "id": "myrkwbU4l1_V"
   },
   "source": [
    "### Teste do Modelo"
   ]
  },
  {
   "cell_type": "code",
   "execution_count": 19,
   "metadata": {
    "colab": {
     "base_uri": "https://localhost:8080/"
    },
    "executionInfo": {
     "elapsed": 34,
     "status": "ok",
     "timestamp": 1739915790146,
     "user": {
      "displayName": "Fernando Amaral",
      "userId": "13956145547499510680"
     },
     "user_tz": 180
    },
    "id": "i32jiOuhXCwP",
    "outputId": "4b48ebfb-9ea5-4047-d16d-64b384424e28"
   },
   "outputs": [
    {
     "name": "stdout",
     "output_type": "stream",
     "text": [
      "\n",
      "Novos Projetos e Viabilidade:\n",
      "   investment  expected_return  impact_score  probability  viability\n",
      "0       40000            60000             6     0.263098          0\n",
      "\n",
      "Métricas do Modelo:\n",
      "{'0': {'precision': 0.8768472906403941, 'recall': 0.9128205128205128, 'f1-score': 0.8944723618090452, 'support': 195.0}, '1': {'precision': 0.8247422680412371, 'recall': 0.7619047619047619, 'f1-score': 0.7920792079207921, 'support': 105.0}, 'accuracy': 0.86, 'macro avg': {'precision': 0.8507947793408156, 'recall': 0.8373626373626373, 'f1-score': 0.8432757848649186, 'support': 300.0}, 'weighted avg': {'precision': 0.8586105327306891, 'recall': 0.86, 'f1-score': 0.8586347579481568, 'support': 300.0}}\n"
     ]
    }
   ],
   "source": [
    "# Novos projetos\n",
    "new_projects = [\n",
    "    #{\"investment\": 13000, \"expected_return\": 69000, \"impact_score\": 7}\n",
    "    {\"investment\": 40000, \"expected_return\": 60000, \"impact_score\": 6}\n",
    "]\n",
    "\n",
    "predictions, metrics = train_or_predict(new_projects)\n",
    "\n",
    "if predictions is not None:\n",
    "    print(\"\\nNovos Projetos e Viabilidade:\")\n",
    "    print(predictions)\n",
    "\n",
    "print(\"\\nMétricas do Modelo:\")\n",
    "print(metrics)"
   ]
  },
  {
   "cell_type": "code",
   "execution_count": null,
   "metadata": {
    "id": "jzPuN_RmXCzZ"
   },
   "outputs": [],
   "source": []
  }
 ],
 "metadata": {
  "colab": {
   "provenance": []
  },
  "kernelspec": {
   "display_name": "venv",
   "language": "python",
   "name": "python3"
  },
  "language_info": {
   "codemirror_mode": {
    "name": "ipython",
    "version": 3
   },
   "file_extension": ".py",
   "mimetype": "text/x-python",
   "name": "python",
   "nbconvert_exporter": "python",
   "pygments_lexer": "ipython3",
   "version": "3.10.0rc2"
  }
 },
 "nbformat": 4,
 "nbformat_minor": 0
}
